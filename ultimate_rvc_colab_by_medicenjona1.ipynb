{
  "nbformat": 4,
  "nbformat_minor": 0,
  "metadata": {
    "colab": {
      "provenance": []
    },
    "kernelspec": {
      "name": "python3",
      "display_name": "Python 3"
    },
    "language_info": {
      "name": "python"
    }
  },
  "cells": [
    {
      "cell_type": "markdown",
      "source": [
        "Colab for [Ultimate-RCV](https://github.com/JackismyShephard/ultimate-rvc) - **Basic** version created by [@**medicenjona1**](https://github.com/medicenjona1)\n",
        "\n",
        "This Colab notebook will **help** you if you don’t have a GPU or if your PC isn’t very powerful.\n",
        "(Remember to connect using T4 GPU and not CPU)"
      ],
      "metadata": {
        "id": "kmyCzJVyCymN"
      }
    },
    {
      "cell_type": "code",
      "source": [
        "#@title Clone repository\n",
        "from IPython.display import clear_output, Javascript\n",
        "import codecs\n",
        "import threading\n",
        "import time\n",
        "import os # for reasons...\n",
        "credit = \" - code by Hina\"\n",
        "#=======================Auto Edit======================\n",
        "\n",
        "#@markdown code by [Hina](https://github.com/hinabl/)\n",
        "\n",
        "\n",
        "Pitch_Change=\"12\"\n",
        "\n",
        "if Pitch_Change==\"1\":\n",
        "  cloneing=codecs.decode('uggcf://tvguho.pbz/LbanCebKQ/hygvzngr-eip','rot_13')\n",
        "else:\n",
        "  cloneing=codecs.decode('uggcf://tvguho.pbz/LbanCebKQ/hygvzngr-eip','rot_13')\n",
        "\n",
        "Install_To_Drive=False\n",
        "\n",
        "\n",
        "#====================Use Drive============\n",
        "if Install_To_Drive==True:\n",
        "  from google.colab import drive\n",
        "  drive.mount('/content/drive')\n",
        "\n",
        "  !git clone $cloneing ultimate-rvc\n",
        "  !mv ultimate-rvc /content/drive/MyDrive/\n",
        "  !rm -rf sample_data\n",
        "  %cd /content/drive/MyDrive/ultimate-rvc\n",
        "else:\n",
        "  !git clone $cloneing ultimate-rvc\n",
        "  !rm -rf sample_data\n",
        "  %cd /content/\n",
        "  %cd ultimate-rvc\n",
        "\n",
        "\n",
        "def update_timer_and_print():\n",
        "    global timer\n",
        "    while True:\n",
        "        hours, remainder = divmod(timer, 3600)\n",
        "        minutes, seconds = divmod(remainder, 60)\n",
        "        timer_str = f'{hours:02}:{minutes:02}:{seconds:02}'\n",
        "        print(f'\\rTimer: {timer_str} ', end='', flush=True)  # Print without a newline\n",
        "        time.sleep(1)\n",
        "        timer += 1\n",
        "timer = 0\n",
        "threading.Thread(target=update_timer_and_print, daemon=True).start()\n",
        "\n",
        "LongInstall=False\n",
        "\n",
        "if LongInstall==True:\n",
        "  !sudo apt update\n",
        "  !yes | sudo DEBIAN_FRONTEND=noninteractive apt-get -yq install cuda-11-8\n",
        "  clear_output()\n",
        "  !find / -name '*libcublasLt.so*' #Just to see the versions, you will have 11.8 and 12.2\n",
        "  time.sleep(10)\n",
        "\n",
        "clear_output()\n",
        "print(\"Done Cloning Repository\"+credit)"
      ],
      "metadata": {
        "id": "TfYDhnzOyig5",
        "outputId": "3fa61300-f94a-43be-ff9a-2de5c2a00094",
        "colab": {
          "base_uri": "https://localhost:8080/"
        },
        "cellView": "form"
      },
      "execution_count": 3,
      "outputs": [
        {
          "output_type": "stream",
          "name": "stdout",
          "text": [
            "Done Cloning Repository - code by Hina\n"
          ]
        }
      ]
    },
    {
      "cell_type": "code",
      "source": [
        "#@title Second step (Install)\n",
        "!cd ultimate-rvc\n",
        "!chmod +x /content/ultimate-rvc/urvc.sh\n",
        "!cd ultimate-rvc\n",
        "!bash /content/ultimate-rvc/urvc.sh install"
      ],
      "metadata": {
        "cellView": "form",
        "id": "aaokDv1VzpAX"
      },
      "execution_count": null,
      "outputs": []
    },
    {
      "cell_type": "code",
      "source": [
        "#@title Third step (Run)\n",
        "#@markdown ---\n",
        "Url=\"Ngrok\" #@param ['Ngrok']\n",
        "#@markdown ---\n",
        "#@markdown - Token is only needed if you are using Ngrok. You can make an account on [ngrok](https://dashboard.ngrok.com/signup) for free.\n",
        "#@markdown - Click [this link](https://dashboard.ngrok.com/get-started/your-authtoken) to get your auth token, and place it here:\n",
        "Token=\"\" #@param {type:\"string\"}\n",
        "!pip install pyngrok\n",
        "from pyngrok import ngrok\n",
        "ngrok.set_auth_token(Token)\n",
        "ngrok.kill()\n",
        "cover_tunnel = ngrok.connect(7860)\n",
        "print(\"URL:\", cover_tunnel.public_url)\n",
        "!bash /content/ultimate-rvc/urvc.sh run\n",
        "#@markdown - Click [this link](https://dashboard.ngrok.com/cloud-edge/endpoints) to view your URL:"
      ],
      "metadata": {
        "id": "lVGNygIa0F_1",
        "cellView": "form"
      },
      "execution_count": null,
      "outputs": []
    }
  ]
}
