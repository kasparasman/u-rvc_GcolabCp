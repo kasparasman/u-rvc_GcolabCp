{
  "nbformat": 4,
  "nbformat_minor": 0,
  "metadata": {
    "colab": {
      "provenance": []
    },
    "kernelspec": {
      "name": "python3",
      "display_name": "Python 3"
    },
    "language_info": {
      "name": "python"
    }
  },
  "cells": [
    {
      "cell_type": "markdown",
      "source": [
        "Colab for [Ultimate-RCV](https://github.com/JackismyShephard/ultimate-rvc) - **Basic** version created by [@**medicenjona1**](https://github.com/medicenjona1)\n",
        "\n",
        "This Colab notebook will **help** you if you don’t have a GPU or if your PC isn’t very powerful.\n",
        "(Remember to connect using T4 GPU and not CPU)"
      ],
      "metadata": {
        "id": "kmyCzJVyCymN"
      }
    },
    {
      "cell_type": "code",
      "source": [
        "#@title First step (Clone repository).\n",
        "!git clone https://github.com/JackismyShephard/ultimate-rvc\n",
        "!cd ultimate-rvc\n",
        "#"
      ],
      "metadata": {
        "cellView": "form",
        "id": "TfYDhnzOyig5"
      },
      "execution_count": null,
      "outputs": []
    },
    {
      "cell_type": "code",
      "source": [
        "#@title Second step (Install)\n",
        "!cd ultimate-rvc\n",
        "!chmod +x /content/ultimate-rvc/urvc.sh\n",
        "!cd ultimate-rvc\n",
        "!bash /content/ultimate-rvc/urvc.sh install"
      ],
      "metadata": {
        "cellView": "form",
        "id": "aaokDv1VzpAX"
      },
      "execution_count": null,
      "outputs": []
    },
    {
      "cell_type": "code",
      "source": [
        "#@title Third step (Run)\n",
        "#@markdown ---\n",
        "Url=\"Ngrok\" #@param ['Ngrok']\n",
        "#@markdown ---\n",
        "#@markdown - Token is only needed if you are using Ngrok. You can make an account on [ngrok](https://dashboard.ngrok.com/signup) for free.\n",
        "#@markdown - Click [this link](https://dashboard.ngrok.com/get-started/your-authtoken) to get your auth token, and place it here:\n",
        "Token=\"\" #@param {type:\"string\"}\n",
        "!pip install pyngrok\n",
        "from pyngrok import ngrok\n",
        "ngrok.set_auth_token(Token)\n",
        "ngrok.kill()\n",
        "cover_tunnel = ngrok.connect(7860)\n",
        "print(\"URL:\", cover_tunnel.public_url)\n",
        "!bash /content/ultimate-rvc/urvc.sh run\n",
        "#@markdown - Click [this link](https://dashboard.ngrok.com/cloud-edge/endpoints) to view your URL:"
      ],
      "metadata": {
        "cellView": "form",
        "id": "lVGNygIa0F_1"
      },
      "execution_count": null,
      "outputs": []
    }
  ]
}