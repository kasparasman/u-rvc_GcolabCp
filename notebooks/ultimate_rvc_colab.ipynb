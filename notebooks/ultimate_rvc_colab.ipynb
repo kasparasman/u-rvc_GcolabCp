{
  "cells": [
    {
      "cell_type": "markdown",
      "metadata": {
        "id": "kmyCzJVyCymN"
      },
      "source": [
        "Colab for [Ultimate RVC](https://github.com/JackismyShephard/ultimate-rvc)\n",
        "\n",
        "This Colab notebook will **help** you if you don’t have a GPU or if your PC isn’t very powerful (Remember to connect using T4 GPU and not CPU).\n",
        "\n",
        "Credits: original colab code by [Hina](https://github.com/hinabl/)"
      ]
    },
    {
      "cell_type": "code",
      "execution_count": null,
      "metadata": {
        "cellView": "form",
        "colab": {
          "base_uri": "https://localhost:8080/"
        },
        "id": "TfYDhnzOyig5",
        "outputId": "3fa61300-f94a-43be-ff9a-2de5c2a00094"
      },
      "outputs": [
        {
          "name": "stdout",
          "output_type": "stream",
          "text": [
            "Done Cloning Repository - code by Hina\n"
          ]
        }
      ],
      "source": [
        "#@title Clone repository\n",
        "from IPython.display import clear_output\n",
        "import threading\n",
        "import time\n",
        "Install_To_Drive=False\n",
        "\n",
        "if Install_To_Drive==True:\n",
        "  from google.colab import drive\n",
        "  drive.mount('/content/drive')\n",
        "\n",
        "  !git clone https://github.com/JackismyShephard/ultimate-rvc.git\n",
        "  !mv ultimate-rvc /content/drive/MyDrive/\n",
        "  %cd /content/drive/MyDrive/ultimate-rvc\n",
        "else:\n",
        "  !git clone https://github.com/JackismyShephard/ultimate-rvc.git\n",
        "  %cd /content/ultimate-rvc\n",
        "\n",
        "def update_timer_and_print():\n",
        "    global timer\n",
        "    while True:\n",
        "        hours, remainder = divmod(timer, 3600)\n",
        "        minutes, seconds = divmod(remainder, 60)\n",
        "        timer_str = f'{hours:02}:{minutes:02}:{seconds:02}'\n",
        "        print(f'\\rTimer: {timer_str} ', end='', flush=True)  # Print without a newline\n",
        "        time.sleep(1)\n",
        "        timer += 1\n",
        "\n",
        "timer = 0\n",
        "threading.Thread(target=update_timer_and_print, daemon=True).start()\n",
        "\n",
        "clear_output()\n",
        "print(\"Done Cloning Repository\")"
      ]
    },
    {
      "cell_type": "code",
      "execution_count": null,
      "metadata": {
        "cellView": "form",
        "id": "aaokDv1VzpAX"
      },
      "outputs": [],
      "source": [
        "#@title Install dependencies\n",
        "!chmod +x /content/ultimate-rvc/urvc.sh\n",
        "!bash /content/ultimate-rvc/urvc.sh install"
      ]
    },
    {
      "cell_type": "code",
      "execution_count": null,
      "metadata": {
        "cellView": "form",
        "id": "lVGNygIa0F_1"
      },
      "outputs": [],
      "source": [
        "\n",
        "#@title Run Ultimate RVC\n",
        "#@markdown ---\n",
        "Url=\"Gradio\" #@param ['Gradio','Ngrok','Cloudflared']\n",
        "#@markdown ---\n",
        "#@markdown - Token is only needed if you are using Ngrok. You can make an account on [ngrok](https://dashboard.ngrok.com/signup) for free.\n",
        "#@markdown - Click [this link](https://dashboard.ngrok.com/get-started/your-authtoken) to get your auth token, and place it here:\n",
        "Token=\"\" #@param {type:\"string\"}\n",
        "if Url==\"Gradio\":\n",
        "  pass\n",
        "elif Url == \"Cloudflared\":\n",
        "  # Install Cloudflared\n",
        "  !curl -LO https://github.com/cloudflare/cloudflared/releases/latest/download/cloudflared-linux-amd64.deb\n",
        "  !dpkg -i cloudflared-linux-amd64.deb\n",
        "  # Delete log file\n",
        "  !rm -rf nohup.out\n",
        "  # Run cloudflared\n",
        "  !nohup cloudflared tunnel --url localhost:9999 &\n",
        "  clear_output()\n",
        "\n",
        "  time.sleep(5)\n",
        "\n",
        "  !grep -oE \"https://[a-zA-Z0-9.-]+\\.trycloudflare\\.com\" nohup.out\n",
        "else:\n",
        "  !pip install pyngrok\n",
        "  from pyngrok import ngrok\n",
        "  ngrok.set_auth_token(Token)\n",
        "  ngrok.kill()\n",
        "  cover_tunnel = ngrok.connect(9999)\n",
        "  print(\"URL:\", cover_tunnel.public_url)\n",
        "!bash /content/ultimate-rvc/urvc.sh colab"
      ]
    }
  ],
  "metadata": {
    "colab": {
      "provenance": [],
      "gpuType": "T4"
    },
    "kernelspec": {
      "display_name": "Python 3",
      "name": "python3"
    },
    "language_info": {
      "name": "python"
    },
    "accelerator": "GPU"
  },
  "nbformat": 4,
  "nbformat_minor": 0
}