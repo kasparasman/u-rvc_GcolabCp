{
  "cells": [
    {
      "cell_type": "markdown",
      "metadata": {
        "id": "kmyCzJVyCymN"
      },
      "source": [
        "Colab for [Ultimate RVC](https://github.com/JackismyShephard/ultimate-rvc)\n",
        "\n",
        "This Colab notebook will **help** you if you don’t have a GPU or if your PC isn’t very powerful.\n",
        "\n",
        "Simply click `Runtime` in the top navigation bar and `Run all`. Wait for the output of the final cell to show the public gradio url and click on it.\n"
      ]
    },
    {
      "cell_type": "code",
      "execution_count": null,
      "metadata": {
        "cellView": "form",
        "id": "TfYDhnzOyig5"
      },
      "outputs": [],
      "source": [
        "#@title 0: Initialize notebook\n",
        "import threading\n",
        "import time\n",
        "\n",
        "DEPENDENCIES_PATH = \"./dependencies\"\n",
        "VENV_PATH = f\"{DEPENDENCIES_PATH}/venv\"\n",
        "BIN_PATH = f\"{VENV_PATH}/bin\"\n",
        "\n",
        "\n",
        "def update_timer_and_print():\n",
        "    global timer\n",
        "    while True:\n",
        "        hours, remainder = divmod(timer, 3600)\n",
        "        minutes, seconds = divmod(remainder, 60)\n",
        "        timer_str = f'{hours:02}:{minutes:02}:{seconds:02}'\n",
        "        print(f'\\rTimer: {timer_str} ', end='', flush=True)  # Print without a newline\n",
        "        time.sleep(1)\n",
        "        timer += 1\n",
        "\n",
        "timer = 0\n",
        "threading.Thread(target=update_timer_and_print, daemon=True).start()\n",
        "\n",
        "install_to_drive=False\n",
        "if install_to_drive==True:\n",
        "  from google.colab import drive\n",
        "  drive.mount('/content/drive')\n",
        "  %cd /content/drive/MyDrive\n",
        "else:\n",
        "  %cd /content"
      ]
    },
    {
      "cell_type": "code",
      "execution_count": null,
      "metadata": {
        "cellView": "form",
        "id": "aaokDv1VzpAX"
      },
      "outputs": [],
      "source": [
        "#@title 1: Clone repository\n",
        "\n",
        "!git clone https://github.com/JackismyShephard/ultimate-rvc.git\n",
        "%cd ./ultimate-rvc"
      ]
    },
    {
      "cell_type": "code",
      "execution_count": null,
      "metadata": {
        "cellView": "form",
        "id": "lVGNygIa0F_1"
      },
      "outputs": [],
      "source": [
        "#@title 2: Install dependencies\n",
        "!apt install -y python3.11 python3.11-dev python3.11-venv\n",
        "!apt install -y sox libsox-dev ffmpeg\n",
        "\n",
        "!curl -LJ -o $DEPENDENCIES_PATH/fairseq-0.12.2-cp311-cp311-linux_x86_64.whl --create-dirs \\\n",
        "  https://huggingface.co/JackismyShephard/ultimate-rvc/resolve/main/fairseq-0.12.2-cp311-cp311-linux_x86_64.whl\n",
        "!python3.11 -m venv $VENV_PATH --upgrade-deps\n",
        "\n",
        "! $BIN_PATH/pip install -r requirements.txt\n",
        "! $BIN_PATH/pip install faiss-cpu==1.7.3\n",
        "! $BIN_PATH/python ./src/init.py"
      ]
    },
    {
      "cell_type": "code",
      "execution_count": null,
      "metadata": {
        "cellView": "form",
        "id": "lVGNygIa0F_2"
      },
      "outputs": [],
      "source": [
        "#@title 3: Run Ultimate RVC\n",
        "!$BIN_PATH/python ./src/app.py --share --listen-port 9999"
      ]
    }
  ],
  "metadata": {
    "accelerator": "GPU",
    "colab": {
      "gpuType": "T4",
      "provenance": []
    },
    "kernelspec": {
      "display_name": "Python 3",
      "name": "python3"
    },
    "language_info": {
      "name": "python"
    }
  },
  "nbformat": 4,
  "nbformat_minor": 0
}