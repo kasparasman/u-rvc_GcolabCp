{
  "nbformat": 4,
  "nbformat_minor": 0,
  "metadata": {
    "colab": {
      "provenance": [],
      "gpuType": "T4"
    },
    "kernelspec": {
      "name": "python3",
      "display_name": "Python 3"
    },
    "language_info": {
      "name": "python"
    },
    "accelerator": "GPU"
  },
  "cells": [
    {
      "cell_type": "markdown",
      "source": [
        "[![Open In Colab](https://colab.research.google.com/assets/colab-badge.svg)](https://colab.research.google.com/github/SociallyIneptWeeb/AICoverGen/blob/main/AICoverGen_colab.ipynb)"
      ],
      "metadata": {
        "id": "39k2mOCNAh6J"
      }
    },
    {
      "cell_type": "code",
      "execution_count": null,
      "metadata": {
        "cellView": "form",
        "id": "vC4gLMHI9xb3"
      },
      "outputs": [],
      "source": [
        "#@title Clone repository\n",
        "!git clone https://github.com/SociallyIneptWeeb/AICoverGen.git\n",
        "%cd AICoverGen"
      ]
    },
    {
      "cell_type": "code",
      "source": [
        "#@title Install requirements\n",
        "!pip install -q -r requirements.txt"
      ],
      "metadata": {
        "cellView": "form",
        "id": "odzpJHpr_PaF"
      },
      "execution_count": null,
      "outputs": []
    },
    {
      "cell_type": "code",
      "source": [
        "#@title Download MDXNet Vocal Separation and Hubert Base Models\n",
        "!python src/download_models.py"
      ],
      "metadata": {
        "cellView": "form",
        "id": "SLWpcJc0AHSZ"
      },
      "execution_count": null,
      "outputs": []
    },
    {
      "cell_type": "code",
      "source": [
        "import os\n",
        "#@title Download RVC model\n",
        "\n",
        "#@markdown ## Download a RVC model from a HuggingFace link\n",
        "#@markdown Sample Selena Gomez model by jooheons on discord\n",
        "MODEL_LINK = 'https://huggingface.co/jooheons/selenagv2/resolve/main/selenagv2.zip' #@param {type:\"string\"}\n",
        "#@markdown ## Give a suitable name for the voice model to use later\n",
        "model_name = 'Selena' #@param {type:\"string\"}\n",
        "zip_name = MODEL_LINK.split('/')[-1]\n",
        "!wget {MODEL_LINK}\n",
        "!unzip {zip_name} -d rvc_models/{model_name}\n",
        "!rm {zip_name}"
      ],
      "metadata": {
        "cellView": "form",
        "id": "lDoCfEBkBNBZ"
      },
      "execution_count": null,
      "outputs": []
    },
    {
      "cell_type": "code",
      "source": [
        "import re\n",
        "import ffmpeg\n",
        "from IPython.display import Audio, display\n",
        "\n",
        "#@title Run Cover Generation (only preview first 30s of cover)\n",
        "#@markdown Enter the voice model to use, same as entered in the above cell.\n",
        "model_name = 'Selena' #@param {type:\"string\"}\n",
        "\n",
        "#@markdown Enter a link to a song on youtube\n",
        "yt_link = 'https://www.youtube.com/watch?v=FSXuM2v0YLY' #@param {type:\"string\"}\n",
        "match = re.search(r\"v=([^&]+)\", yt_link)\n",
        "song_id = match.group(1)\n",
        "\n",
        "#@markdown Enter the pitch change to add to the vocals. Generally use 12 for Male to Female voice conversions, and -12 for Female to Male conversions\n",
        "pitch_change = 0 #@param {type:\"number\"}\n",
        "\n",
        "!python src/main.py -yt {yt_link} -dir {model_name} -p {pitch_change}\n",
        "\n",
        "cover_dir = os.path.join(os.getcwd(), 'song_output', song_id)\n",
        "cover_path = ''\n",
        "for filepath in os.listdir(cover_dir):\n",
        "  if filepath.endswith(f'({model_name} Ver).wav'):\n",
        "    cover_path = os.path.join(cover_dir, filepath)\n",
        "    break\n",
        "\n",
        "audio_input = ffmpeg.input(cover_path)\n",
        "audio_cut = audio_input.audio.filter('atrim', duration=30)\n",
        "audio_output = ffmpeg.output(audio_cut, 'preview.wav')\n",
        "ffmpeg.run(audio_output, overwrite_output=True)\n",
        "Audio('preview.wav')"
      ],
      "metadata": {
        "cellView": "form",
        "id": "yemjwScJGa6J"
      },
      "execution_count": null,
      "outputs": []
    },
    {
      "cell_type": "code",
      "source": [
        "#@title Download the full AI Generated Cover\n",
        "from google.colab import files\n",
        "files.download(cover_path)"
      ],
      "metadata": {
        "cellView": "form",
        "id": "22XAyvunQei-"
      },
      "execution_count": null,
      "outputs": []
    }
  ]
}
